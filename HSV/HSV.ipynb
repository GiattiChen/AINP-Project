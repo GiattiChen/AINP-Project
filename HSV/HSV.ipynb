{
 "cells": [
  {
   "cell_type": "code",
   "execution_count": 1,
   "metadata": {},
   "outputs": [
    {
     "ename": "ModuleNotFoundError",
     "evalue": "No module named 'cv2'",
     "output_type": "error",
     "traceback": [
      "\u001b[0;31m---------------------------------------------------------------------------\u001b[0m",
      "\u001b[0;31mModuleNotFoundError\u001b[0m                       Traceback (most recent call last)",
      "\u001b[0;32m<ipython-input-1-41eeef23f801>\u001b[0m in \u001b[0;36m<module>\u001b[0;34m\u001b[0m\n\u001b[1;32m      1\u001b[0m \u001b[0;31m# date 9.3\u001b[0m\u001b[0;34m\u001b[0m\u001b[0;34m\u001b[0m\u001b[0;34m\u001b[0m\u001b[0m\n\u001b[1;32m      2\u001b[0m \u001b[0;34m\u001b[0m\u001b[0m\n\u001b[0;32m----> 3\u001b[0;31m \u001b[0;32mimport\u001b[0m \u001b[0mcv2\u001b[0m\u001b[0;34m\u001b[0m\u001b[0;34m\u001b[0m\u001b[0m\n\u001b[0m\u001b[1;32m      4\u001b[0m \u001b[0;32mimport\u001b[0m \u001b[0mnumpy\u001b[0m \u001b[0;32mas\u001b[0m \u001b[0mnp\u001b[0m\u001b[0;34m\u001b[0m\u001b[0;34m\u001b[0m\u001b[0m\n\u001b[1;32m      5\u001b[0m \u001b[0;34m\u001b[0m\u001b[0m\n",
      "\u001b[0;31mModuleNotFoundError\u001b[0m: No module named 'cv2'"
     ]
    }
   ],
   "source": [
    "# date 9.3\n",
    "\n",
    "import cv2\n",
    "import numpy as np \n",
    "\n",
    "\n",
    "if __name__ == '__main__' :\n",
    "\n",
    "    # Read image, type the image's name here:\n",
    "    img = cv2.imread(\"image1.png\")\n",
    "    hsv_img = cv2.cvtColor(img, cv2.COLOR_BGR2HSV)\n",
    "\n",
    "    print(\"Select the Region Of Interest (ROI) on the image (click and drag)\")\n",
    "\n",
    "    # Select ROI\n",
    "    reg = cv2.selectROI(img)\n",
    "     \n",
    "    # Crop image\n",
    "    target_img0 = img[int(reg[1]):int(reg[1]+reg[3]), int(reg[0]):int(reg[0]+reg[2])]\n",
    "    target_img = hsv_img[int(reg[1]):int(reg[1]+reg[3]), int(reg[0]):int(reg[0]+reg[2])]\n",
    "    \n",
    "    H_max = np.amax(target_img[:,:,0])\n",
    "    H_avg = np.mean(target_img[:,:,0])\n",
    "    H_min = np.amin(target_img[:,:,0])\n",
    "    print(\"H_max = \" + str(H_max))\n",
    "    print(\"H_avg = \" + str(H_avg))\n",
    "    print(\"H_min = \" + str(H_min))\n",
    "    \n",
    "    S_max = np.amax(target_img[:,:,1])\n",
    "    S_avg = np.mean(target_img[:,:,1])\n",
    "    S_min = np.amin(target_img[:,:,1])\n",
    "    print(\"S_max = \" + str(S_max))\n",
    "    print(\"S_avg = \" + str(S_avg))\n",
    "    print(\"S_min = \" + str(S_min))\n",
    "    \n",
    "    V_max = np.amax(target_img[:,:,2])\n",
    "    V_avg = np.mean(target_img[:,:,2])\n",
    "    V_min = np.amin(target_img[:,:,2])\n",
    "    print(\"V_max = \" + str(V_max))\n",
    "    print(\"V_avg = \" + str(V_avg))\n",
    "    print(\"V_min = \" + str(V_min))\n",
    "    \n",
    "    # Adjust HSV threshold\n",
    "    color_h = np.array([H_avg+10,S_max+200,V_max+70])\n",
    "    color_l = np.array([H_avg-5,S_min+60,V_min+0])\n",
    "\n",
    "\t# Saturation H:0~180 S:0~255 V:0~255\n",
    "    color_h[0] = np.clip(color_h[0], 0, 180)\n",
    "    color_h[1] = np.clip(color_h[1], 0, 255)\n",
    "    color_h[2] = np.clip(color_h[2], 0, 255)\n",
    "    color_l[0] = np.clip(color_l[0], 0, 180)\n",
    "    color_l[1] = np.clip(color_l[1], 0, 255)\n",
    "    color_l[2] = np.clip(color_l[2], 0, 255)    \n",
    "    print(\"color_h = \" + str(color_h))\n",
    "    print(\"color_l = \" + str(color_l))\n",
    "    mask_img = cv2.inRange(hsv_img, color_l, color_h)\n",
    "    resultHSV = cv2.bitwise_and(img, img, mask = mask_img)\n",
    "    # Display cropped image\n",
    "    cv2.imshow(\"Selected region\", target_img0)\n",
    "    cv2.imshow(\"Masked image\", resultHSV)\n",
    "    cv2.waitKey(0)\n",
    "    "
   ]
  },
  {
   "cell_type": "code",
   "execution_count": null,
   "metadata": {},
   "outputs": [],
   "source": []
  }
 ],
 "metadata": {
  "kernelspec": {
   "display_name": "Python 3",
   "language": "python",
   "name": "python3"
  },
  "language_info": {
   "codemirror_mode": {
    "name": "ipython",
    "version": 3
   },
   "file_extension": ".py",
   "mimetype": "text/x-python",
   "name": "python",
   "nbconvert_exporter": "python",
   "pygments_lexer": "ipython3",
   "version": "3.7.6"
  }
 },
 "nbformat": 4,
 "nbformat_minor": 2
}
